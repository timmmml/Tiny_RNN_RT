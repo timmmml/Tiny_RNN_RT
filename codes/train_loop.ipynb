{
 "cells": [
  {
   "cell_type": "code",
   "id": "initial_id",
   "metadata": {
    "collapsed": true,
    "ExecuteTime": {
     "end_time": "2024-07-03T16:11:49.544631Z",
     "start_time": "2024-07-03T16:11:43.948839Z"
    }
   },
   "source": [
    "from utils import \n",
    "from path_settings import MODEL_SAVE_PATH, DATA_PATH, LOG_PATH\n",
    "from torch.utils.tensorboard import SummaryWriter\n",
    "import SimulateDatasets.GenTrainingData as g\n",
    "from utils import create_splits, get_dataloaders, force_remove_dir\n",
    "from Network_models import Trainer as t\n",
    "from importlib import reload\n",
    "import os\n",
    "reload(t)\n",
    "reload(g)\n",
    "import datetime\n"
   ],
   "outputs": [],
   "execution_count": 1
  },
  {
   "metadata": {
    "ExecuteTime": {
     "end_time": "2024-07-03T16:12:04.769004Z",
     "start_time": "2024-07-03T16:12:04.274243Z"
    }
   },
   "cell_type": "code",
   "source": [
    "cell_type = \"GRU\"\n",
    "configs = {\n",
    "    \"model_specs\": {\n",
    "        \"model_name\": \"CustomRNN\", # To diffrentiate from the several types of RNN cells.\n",
    "        \"model_path\": \"Network_models.RNN_models\",\n",
    "        \"model_params\": {\n",
    "            \"input_size\": 4,\n",
    "            \"hidden_size\": 64,\n",
    "            \"num_layers\": 1,\n",
    "            \"output_size\": 3,\n",
    "            \"cell_type\": cell_type,\n",
    "        }\n",
    "    },\n",
    "\n",
    "    \"device\": \"cuda\",\n",
    "    \"optimizer_specs\": {\n",
    "        \"optimizer_name\": \"Adam\",\n",
    "        \"optimizer_params\": {\n",
    "            \"lr\": 0.001\n",
    "        }\n",
    "    },\n",
    "\n",
    "    \"distance_loss\": \"geodesic\",\n",
    "    \"regularisation_loss\": \"L2\",\n",
    "    \"distance_weight\": 1,\n",
    "\n",
    "    \"save_path\": MODEL_SAVE_PATH + f\"\\\\{cell_type}_model\",\n",
    "    \"log_path\": LOG_PATH,\n",
    "    \"check_path\": MODEL_SAVE_PATH + f\"\\\\{cell_type}_model_checkpoints\",\n",
    "\n",
    "    \"training_config\": {\n",
    "        \"task_id\": \"0.1q\",\n",
    "        \"batch_size\": 128,\n",
    "        \"mini_batch_size\": 32,\n",
    "        \"seq_len\": 1000,\n",
    "        \"prep_phase\": 500,\n",
    "    }\n",
    "}\n",
    "\n",
    "configs[\"training_config\"][\"data_save_path\"] = DATA_PATH + (\"\\\\Data_\" + configs[\"training_config\"][\"task_id\"] + \".pth\")\n",
    "configs[\"save_path\"] = configs[\"save_path\"] + (\"_\" + configs[\"training_config\"][\"task_id\"])\n",
    "configs[\"check_path\"] = configs[\"check_path\"] + (\"_\" + configs[\"training_config\"][\"task_id\"])\n",
    "configs[\"log_path\"] = configs[\"log_path\"] + (\"\\\\Log_\" + configs[\"training_config\"][\"task_id\"])\n",
    "\n",
    "for path in [configs[\"save_path\"], configs[\"check_path\"], configs[\"log_path\"]]:\n",
    "    os.makedirs(path, exist_ok=True)\n",
    "    \n",
    "data1 = g.gen_training_data(configs['training_config'])\n",
    "dataloaders = get_dataloaders(data1, batch_size=configs[\"training_config\"][\"mini_batch_size\"], k=5)"
   ],
   "id": "ecfbf8558ea006a3",
   "outputs": [],
   "execution_count": 2
  },
  {
   "metadata": {
    "ExecuteTime": {
     "end_time": "2024-07-03T16:18:14.081684Z",
     "start_time": "2024-07-03T16:18:12.026421Z"
    }
   },
   "cell_type": "code",
   "source": [
    "rnn_trainer = t.Trainer(configs)\n",
    "rnn_trainer.load_model(configs[\"save_path\"] + \"_1.pth\")"
   ],
   "id": "3b94cde0b0069cbe",
   "outputs": [],
   "execution_count": 3
  },
  {
   "metadata": {
    "ExecuteTime": {
     "end_time": "2024-07-03T16:18:58.024243Z",
     "start_time": "2024-07-03T16:18:58.015242Z"
    }
   },
   "cell_type": "code",
   "source": "rnn_trainer.save_model(configs[\"save_path\"] + f\"\\\\model_1.pth\", full = 1)",
   "id": "f11ebf350a91ca37",
   "outputs": [],
   "execution_count": 4
  },
  {
   "metadata": {
    "ExecuteTime": {
     "end_time": "2024-07-03T10:10:45.785130Z",
     "start_time": "2024-07-03T09:50:38.024670Z"
    }
   },
   "cell_type": "code",
   "source": [
    "rnn_trainer = t.Trainer(configs)\n",
    "for i, (train_loader, test_loader) in enumerate(dataloaders):\n",
    "    print(f\"Training on split {i+1}\")\n",
    "    if i:\n",
    "        rnn_trainer.refresh()\n",
    "    new_log_path = configs['log_path'] + f\"\\\\{cell_type}_model_{configs['training_config']['task_id']}_{i+1}\"\n",
    "    force_remove_dir(new_log_path)\n",
    "    \n",
    "    rnn_trainer.train(train_loader, \n",
    "                      test_loader, \n",
    "                      epochs=100, \n",
    "                      save_path = configs[\"save_path\"] + f\"\\\\model_{i+1}.pth\", \n",
    "                      check_path= configs['check_path'] + f\"\\\\model_{i+1}\", \n",
    "                      log_path = new_log_path)\n"
   ],
   "id": "7ad332e84b155fc7",
   "outputs": [
    {
     "name": "stdout",
     "output_type": "stream",
     "text": [
      "Training on split 1\n",
      "Successfully removed directory: D:\\Projects\\mental-rotations\\logs\\Log_0.1q\\GRU_model_0.1q_1\n",
      "Training on split 2\n",
      "Successfully removed directory: D:\\Projects\\mental-rotations\\logs\\Log_0.1q\\GRU_model_0.1q_2\n",
      "Training on split 3\n",
      "Successfully removed directory: D:\\Projects\\mental-rotations\\logs\\Log_0.1q\\GRU_model_0.1q_3\n",
      "Training on split 4\n",
      "Successfully removed directory: D:\\Projects\\mental-rotations\\logs\\Log_0.1q\\GRU_model_0.1q_4\n",
      "Training on split 5\n",
      "Successfully removed directory: D:\\Projects\\mental-rotations\\logs\\Log_0.1q\\GRU_model_0.1q_5\n"
     ]
    }
   ],
   "execution_count": 7
  },
  {
   "metadata": {},
   "cell_type": "code",
   "outputs": [],
   "execution_count": null,
   "source": "",
   "id": "5348c21ac994280a"
  }
 ],
 "metadata": {
  "kernelspec": {
   "display_name": "mental-rotations",
   "language": "python",
   "name": "mental-rotations"
  },
  "language_info": {
   "codemirror_mode": {
    "name": "ipython",
    "version": 2
   },
   "file_extension": ".py",
   "mimetype": "text/x-python",
   "name": "python",
   "nbconvert_exporter": "python",
   "pygments_lexer": "ipython2",
   "version": "2.7.6"
  }
 },
 "nbformat": 4,
 "nbformat_minor": 5
}
