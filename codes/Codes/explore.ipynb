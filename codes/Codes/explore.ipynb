{
 "cells": [
  {
   "cell_type": "raw",
   "source": [
    "\"\"\"This Jupyter notebook is set up to explore with the various aspects of the project\"\"\""
   ],
   "metadata": {
    "collapsed": false
   },
   "id": "268ba6426e4232ff"
  },
  {
   "cell_type": "markdown",
   "source": [
    "# Section 1: Simulate from various task (using the existing modules to set up).\n",
    "used modules: `task`, `agent`, `dataset`\n",
    "\n",
    "Goal: to simulate for any task and agents and store the results in the dataset. (No training/RT modelling is done)"
   ],
   "metadata": {
    "collapsed": false
   },
   "id": "75d22bccbb00576d"
  },
  {
   "cell_type": "code",
   "source": [
    "from importlib import reload\n",
    "from agents import Agent\n",
    "from config import configs as c\n",
    "from tasks import akam_tasks as ts\n",
    "from utils import *  # get_current_file_name, goto_root_dir\n",
    "import pprint\n",
    "\n",
    "pp = pprint.PrettyPrinter(indent=4, depth = 4)\n",
    "goto_root_dir.run()"
   ],
   "metadata": {
    "collapsed": false,
    "ExecuteTime": {
     "end_time": "2024-07-04T20:15:35.202512Z",
     "start_time": "2024-07-04T20:15:32.793702Z"
    }
   },
   "id": "a1c2085971037f14",
   "outputs": [],
   "execution_count": 1
  },
  {
   "cell_type": "markdown",
   "source": [
    "### Simulate an experiment:\n",
    "- [ ] PRL: pure reversal learning, Li et al. task 1\n",
    "    - deteministic transition $A_i$ to $S_i$  \n",
    "- [ ] RTS: reversal two-stage, Li et al. task 2\n",
    "    - probabilistic transition $A_i$ to $S_i$\n",
    "- [ ] NTS: transition-reversal two-stage, Li et al. task 3\n",
    "    - probabilistic trnasition + outer level reversal\n",
    "\n",
    "Currently, no import is made and only random model parameters are taken. (fitted model directories are not available)"
   ],
   "metadata": {
    "collapsed": false
   },
   "id": "5407a72361e2e050"
  },
  {
   "cell_type": "code",
   "source": [
    "tasks = {\n",
    "    \"PRL\": ts.Two_step(com_prob=1),  # common transition always happens\n",
    "    \"RTS\": ts.Two_step(),\n",
    "    \"NTS\": ts.Two_step(rew_gen=\"trans_rev\"),\n",
    "}\n",
    "N_blocks = 100\n",
    "N_trials = 100\n",
    "device = \"cpu\"\n",
    "exp_folder = 0  #automatically generate this\n",
    "seed = 0"
   ],
   "metadata": {
    "collapsed": false,
    "ExecuteTime": {
     "end_time": "2024-07-04T20:15:35.220312Z",
     "start_time": "2024-07-04T20:15:35.204234Z"
    }
   },
   "id": "83186da56ba9d42d",
   "outputs": [],
   "execution_count": 2
  },
  {
   "cell_type": "code",
   "source": [
    "reload(c)\n",
    "# For now only consider RTS\n",
    "agents = {}\n",
    "config = {}\n",
    "cog_types = [\"MB0s\", \"LS0\", \"MB0\", \"MB1\", \"Q(0)\", \"Q(1)\"]\n",
    "\n",
    "for cog_type in cog_types:\n",
    "    cog_config = c.sim_config_from_inputs(False, \n",
    "                                          agent_type=\"RTSCog\", \n",
    "                                          cog_type=cog_type, \n",
    "                                          device=device, \n",
    "                                          seed=seed,\n",
    "                                          num_blocks=N_blocks,\n",
    "                                          num_trials=N_trials,\n",
    "                                          exp_folder=0)\n",
    "    config[f'RTS_{cog_type}'] = cog_config\n",
    "    agents[f'RTS_{cog_type}'] = Agent(cog_config['agent_type'], config = cog_config)"
   ],
   "metadata": {
    "collapsed": false,
    "ExecuteTime": {
     "end_time": "2024-07-04T20:15:35.478888Z",
     "start_time": "2024-07-04T20:15:35.220312Z"
    }
   },
   "id": "2c53283c05e7cae1",
   "outputs": [],
   "execution_count": 3
  },
  {
   "cell_type": "code",
   "source": [
    "for cog_type in cog_types: \n",
    "    agents[f'RTS_{cog_type}'].simulate(tasks[\"RTS\"], config[f'RTS_{cog_type}'], save = True)"
   ],
   "metadata": {
    "collapsed": false,
    "ExecuteTime": {
     "end_time": "2024-07-04T20:15:38.509392Z",
     "start_time": "2024-07-04T20:15:35.480129Z"
    }
   },
   "id": "2492d34a20b862b5",
   "outputs": [
    {
     "name": "stdout",
     "output_type": "stream",
     "text": [
      "Simulating cog agent MB0s with params [0.5, 5.0]\n",
      "n_blocks 100 n_trials 100 sim_seed 0 sim_exp_name simulated_Akam_RTS additional_name \n",
      "Simulating cog agent LS0 with params [0.1, 5.0]\n",
      "n_blocks 100 n_trials 100 sim_seed 0 sim_exp_name simulated_Akam_RTS additional_name \n",
      "Simulating cog agent MB0 with params [0.5, 5.0]\n",
      "n_blocks 100 n_trials 100 sim_seed 0 sim_exp_name simulated_Akam_RTS additional_name \n",
      "Simulating cog agent MB1 with params [0.5, 0.5, 5.0]\n",
      "n_blocks 100 n_trials 100 sim_seed 0 sim_exp_name simulated_Akam_RTS additional_name \n",
      "Simulating cog agent Q(0) with params [0.5, 5.0]\n",
      "n_blocks 100 n_trials 100 sim_seed 0 sim_exp_name simulated_Akam_RTS additional_name \n",
      "Simulating cog agent Q(1) with params [0.5, 5.0]\n",
      "n_blocks 100 n_trials 100 sim_seed 0 sim_exp_name simulated_Akam_RTS additional_name \n"
     ]
    }
   ],
   "execution_count": 4
  },
  {
   "metadata": {
    "ExecuteTime": {
     "end_time": "2024-07-04T20:15:38.525314Z",
     "start_time": "2024-07-04T20:15:38.509392Z"
    }
   },
   "cell_type": "code",
   "source": "# Let's retrieve some data",
   "id": "bf29addbff140e30",
   "outputs": [],
   "execution_count": 5
  }
 ],
 "metadata": {
  "kernelspec": {
   "name": "rt_rnn",
   "language": "python",
   "display_name": "RT_RNN"
  },
  "language_info": {
   "codemirror_mode": {
    "name": "ipython",
    "version": 2
   },
   "file_extension": ".py",
   "mimetype": "text/x-python",
   "name": "python",
   "nbconvert_exporter": "python",
   "pygments_lexer": "ipython2",
   "version": "2.7.6"
  }
 },
 "nbformat": 4,
 "nbformat_minor": 5
}
